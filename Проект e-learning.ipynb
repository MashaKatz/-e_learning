{
 "cells": [
  {
   "cell_type": "markdown",
   "metadata": {},
   "source": [
    "# Проект e-learning: вариант 2"
   ]
  },
  {
   "cell_type": "code",
   "execution_count": 1,
   "metadata": {},
   "outputs": [],
   "source": [
    "import pandas as pd\n",
    "import matplotlib.pyplot as plt\n",
    "import seaborn as sns\n",
    "import numpy as np\n",
    "import plotly.express as px\n",
    "%matplotlib inline"
   ]
  },
  {
   "cell_type": "code",
   "execution_count": 3,
   "metadata": {},
   "outputs": [],
   "source": [
    "asses=pd.read_csv('assessments.csv')\n",
    "courses=pd.read_csv('courses.csv')\n",
    "stasses=pd.read_csv('studentAssessment.csv')\n",
    "streg=pd.read_csv('studentRegistration.csv')"
   ]
  },
  {
   "cell_type": "markdown",
   "metadata": {},
   "source": [
    "# Задание №1. \n",
    "Сколько студентов успешно сдали только один курс? \n",
    "(Успешная сдача — это зачёт по курсу на экзамене) (7 баллов)."
   ]
  },
  {
   "cell_type": "markdown",
   "metadata": {},
   "source": [
    "# Ответ №1: "
   ]
  },
  {
   "cell_type": "markdown",
   "metadata": {},
   "source": [
    "3806 абсолютное число студентов, которые сдали только один курс.\n",
    "\n",
    "16.27 процент студентов с только одним сданным курсом от общего числа студентов.\n",
    "\n",
    "13.21 процент студентов с только одним сданным курсом от общего числа студентов регистрировавшихся на курс."
   ]
  },
  {
   "cell_type": "code",
   "execution_count": 4,
   "metadata": {},
   "outputs": [
    {
     "data": {
      "text/html": [
       "<div>\n",
       "<style scoped>\n",
       "    .dataframe tbody tr th:only-of-type {\n",
       "        vertical-align: middle;\n",
       "    }\n",
       "\n",
       "    .dataframe tbody tr th {\n",
       "        vertical-align: top;\n",
       "    }\n",
       "\n",
       "    .dataframe thead th {\n",
       "        text-align: right;\n",
       "    }\n",
       "</style>\n",
       "<table border=\"1\" class=\"dataframe\">\n",
       "  <thead>\n",
       "    <tr style=\"text-align: right;\">\n",
       "      <th></th>\n",
       "      <th>id_assessment</th>\n",
       "      <th>id_student</th>\n",
       "      <th>date_submitted</th>\n",
       "      <th>is_banked</th>\n",
       "      <th>score</th>\n",
       "      <th>code_module</th>\n",
       "      <th>code_presentation</th>\n",
       "      <th>assessment_type</th>\n",
       "      <th>date</th>\n",
       "      <th>weight</th>\n",
       "    </tr>\n",
       "  </thead>\n",
       "  <tbody>\n",
       "    <tr>\n",
       "      <th>0</th>\n",
       "      <td>1752</td>\n",
       "      <td>11391</td>\n",
       "      <td>18</td>\n",
       "      <td>0</td>\n",
       "      <td>78.0</td>\n",
       "      <td>AAA</td>\n",
       "      <td>2013J</td>\n",
       "      <td>TMA</td>\n",
       "      <td>19.0</td>\n",
       "      <td>10.0</td>\n",
       "    </tr>\n",
       "    <tr>\n",
       "      <th>1</th>\n",
       "      <td>1752</td>\n",
       "      <td>28400</td>\n",
       "      <td>22</td>\n",
       "      <td>0</td>\n",
       "      <td>70.0</td>\n",
       "      <td>AAA</td>\n",
       "      <td>2013J</td>\n",
       "      <td>TMA</td>\n",
       "      <td>19.0</td>\n",
       "      <td>10.0</td>\n",
       "    </tr>\n",
       "    <tr>\n",
       "      <th>2</th>\n",
       "      <td>1752</td>\n",
       "      <td>31604</td>\n",
       "      <td>17</td>\n",
       "      <td>0</td>\n",
       "      <td>72.0</td>\n",
       "      <td>AAA</td>\n",
       "      <td>2013J</td>\n",
       "      <td>TMA</td>\n",
       "      <td>19.0</td>\n",
       "      <td>10.0</td>\n",
       "    </tr>\n",
       "  </tbody>\n",
       "</table>\n",
       "</div>"
      ],
      "text/plain": [
       "   id_assessment  id_student  date_submitted  is_banked  score code_module  \\\n",
       "0           1752       11391              18          0   78.0         AAA   \n",
       "1           1752       28400              22          0   70.0         AAA   \n",
       "2           1752       31604              17          0   72.0         AAA   \n",
       "\n",
       "  code_presentation assessment_type  date  weight  \n",
       "0             2013J             TMA  19.0    10.0  \n",
       "1             2013J             TMA  19.0    10.0  \n",
       "2             2013J             TMA  19.0    10.0  "
      ]
     },
     "execution_count": 4,
     "metadata": {},
     "output_type": "execute_result"
    }
   ],
   "source": [
    "df1=pd.merge(stasses, asses, on='id_assessment')\n",
    "df1.head(3)"
   ]
  },
  {
   "cell_type": "code",
   "execution_count": 5,
   "metadata": {},
   "outputs": [
    {
     "data": {
      "text/plain": [
       "(173912, 10)"
      ]
     },
     "execution_count": 5,
     "metadata": {},
     "output_type": "execute_result"
    }
   ],
   "source": [
    "df1.shape"
   ]
  },
  {
   "cell_type": "code",
   "execution_count": 6,
   "metadata": {},
   "outputs": [
    {
     "data": {
      "text/plain": [
       "3802"
      ]
     },
     "execution_count": 6,
     "metadata": {},
     "output_type": "execute_result"
    }
   ],
   "source": [
    "# В таблице с оценками студентов, выбираем и считаем все id_student, которые сдавали тесты выше 40 баллов.\n",
    "# И считаем сколько тестов каждый студент сдавал выше 40 баллов. Затем число стаднных экзаменов одним студентом переименовываем в\n",
    "# total_passed_cources. \n",
    "students_pass_exams=df1.query('score>=40 and assessment_type==\"Exam\"')\\\n",
    "                       .groupby('id_student')\\\n",
    "                       .id_assessment.count()\\\n",
    "                       .reset_index()\\\n",
    "                       .rename(columns = {'id_assessment':'total_passed_cources'})\\\n",
    "                       .query('total_passed_cources==1')\\\n",
    "                       .id_student.count()\n",
    "students_pass_exams"
   ]
  },
  {
   "cell_type": "code",
   "execution_count": 7,
   "metadata": {},
   "outputs": [
    {
     "data": {
      "text/plain": [
       "16.27"
      ]
     },
     "execution_count": 7,
     "metadata": {},
     "output_type": "execute_result"
    }
   ],
   "source": [
    "# Проверим, а сколько всего студентов. Cчитаем сколько всего уникальных студентов зарегистрировано в df studentAssessment.csv\n",
    "# Посчитаем процент студентов с только одним сданным курсом от общего числа студентов в df studentAssessment.csv.   \n",
    "\n",
    "students_ass=stasses.id_student.nunique()\n",
    "students_ass_percent=((students_pass_exams/students_ass)*100).round(2)\n",
    "students_ass_percent"
   ]
  },
  {
   "cell_type": "code",
   "execution_count": 8,
   "metadata": {},
   "outputs": [
    {
     "data": {
      "text/plain": [
       "13.21"
      ]
     },
     "execution_count": 8,
     "metadata": {},
     "output_type": "execute_result"
    }
   ],
   "source": [
    "# Считаем сколько всего уникальных студентов зарегистрировано в df studentRegistration.csv\n",
    "# Посчитаем процент студентов с только одним сданным курсом от общего числа студенто в df studentRegistration.csv\n",
    "students_reg=streg.id_student.nunique()\n",
    "students_reg_percent=((students_pass_exams/students_reg)*100).round(2)\n",
    "students_reg_percent"
   ]
  },
  {
   "cell_type": "markdown",
   "metadata": {},
   "source": [
    "# Задание №2. \n",
    "Выяви самый сложный и самый простой экзамен: найди курсы и экзамены в рамках курса, которые обладают самой низкой и самой высокой завершаемостью*. *завершаемость = кол-во успешных экзаменов / кол-во всех попыток сдать экзамен (5 баллов)"
   ]
  },
  {
   "cell_type": "markdown",
   "metadata": {},
   "source": [
    "# Ответ №2: "
   ]
  },
  {
   "cell_type": "code",
   "execution_count": 16,
   "metadata": {},
   "outputs": [
    {
     "data": {
      "text/html": [
       "<div>\n",
       "<style scoped>\n",
       "    .dataframe tbody tr th:only-of-type {\n",
       "        vertical-align: middle;\n",
       "    }\n",
       "\n",
       "    .dataframe tbody tr th {\n",
       "        vertical-align: top;\n",
       "    }\n",
       "\n",
       "    .dataframe thead th {\n",
       "        text-align: right;\n",
       "    }\n",
       "</style>\n",
       "<table border=\"1\" class=\"dataframe\">\n",
       "  <thead>\n",
       "    <tr style=\"text-align: right;\">\n",
       "      <th></th>\n",
       "      <th>id_assessment</th>\n",
       "      <th>completed</th>\n",
       "      <th>code_module</th>\n",
       "      <th>code_presentation</th>\n",
       "      <th>assessment_type</th>\n",
       "    </tr>\n",
       "  </thead>\n",
       "  <tbody>\n",
       "    <tr>\n",
       "      <th>Easiest</th>\n",
       "      <td>25340</td>\n",
       "      <td>79.401993</td>\n",
       "      <td>DDD</td>\n",
       "      <td>2013B</td>\n",
       "      <td>Exam</td>\n",
       "    </tr>\n",
       "    <tr>\n",
       "      <th>Hardest</th>\n",
       "      <td>25361</td>\n",
       "      <td>91.221374</td>\n",
       "      <td>DDD</td>\n",
       "      <td>2014B</td>\n",
       "      <td>Exam</td>\n",
       "    </tr>\n",
       "  </tbody>\n",
       "</table>\n",
       "</div>"
      ],
      "text/plain": [
       "         id_assessment  completed code_module code_presentation  \\\n",
       "Easiest          25340  79.401993         DDD             2013B   \n",
       "Hardest          25361  91.221374         DDD             2014B   \n",
       "\n",
       "        assessment_type  \n",
       "Easiest            Exam  \n",
       "Hardest            Exam  "
      ]
     },
     "execution_count": 16,
     "metadata": {},
     "output_type": "execute_result"
    }
   ],
   "source": [
    "# ответ в табличной форме\n",
    "df2"
   ]
  },
  {
   "cell_type": "code",
   "execution_count": null,
   "metadata": {},
   "outputs": [],
   "source": [
    "# Работаем с файлам  assessments.csv  и studentAssessment.csv: \n",
    "# В таблице studentAssessment.csv у нас есть колонка с is_banked, \n",
    "# которая потенциально может давать нам задвоение успешных экзменов. Посмотрев данные другой таблицы df assessments.csv, \n",
    "# мы видим, что id_assesment ('то есть тест/экзамен') можно сегментировать и по предметам. \n",
    "# Также проверим какие значения принимает колонка is_baked => array([0, 1]). То есть нужно удалять is_banked = 1."
   ]
  },
  {
   "cell_type": "code",
   "execution_count": 9,
   "metadata": {},
   "outputs": [
    {
     "data": {
      "text/html": [
       "<div>\n",
       "<style scoped>\n",
       "    .dataframe tbody tr th:only-of-type {\n",
       "        vertical-align: middle;\n",
       "    }\n",
       "\n",
       "    .dataframe tbody tr th {\n",
       "        vertical-align: top;\n",
       "    }\n",
       "\n",
       "    .dataframe thead th {\n",
       "        text-align: right;\n",
       "    }\n",
       "</style>\n",
       "<table border=\"1\" class=\"dataframe\">\n",
       "  <thead>\n",
       "    <tr style=\"text-align: right;\">\n",
       "      <th></th>\n",
       "      <th>id_assessment</th>\n",
       "      <th>efforts</th>\n",
       "    </tr>\n",
       "  </thead>\n",
       "  <tbody>\n",
       "    <tr>\n",
       "      <th>0</th>\n",
       "      <td>25361</td>\n",
       "      <td>524</td>\n",
       "    </tr>\n",
       "    <tr>\n",
       "      <th>1</th>\n",
       "      <td>25340</td>\n",
       "      <td>602</td>\n",
       "    </tr>\n",
       "    <tr>\n",
       "      <th>2</th>\n",
       "      <td>24290</td>\n",
       "      <td>747</td>\n",
       "    </tr>\n",
       "  </tbody>\n",
       "</table>\n",
       "</div>"
      ],
      "text/plain": [
       "   id_assessment  efforts\n",
       "0          25361      524\n",
       "1          25340      602\n",
       "2          24290      747"
      ]
     },
     "execution_count": 9,
     "metadata": {},
     "output_type": "execute_result"
    }
   ],
   "source": [
    "# сделаем таблцу, где посмотрим сколько раз сдавался каждый экзамен\n",
    "df_efforts=df1.query('assessment_type==\"Exam\"')\\\n",
    "              .groupby('id_assessment')\\\n",
    "              .date_submitted.count()\\\n",
    "              .sort_values()\\\n",
    "              .reset_index()\\\n",
    "              .rename(columns = {'date_submitted':'efforts'})\n",
    "df_efforts.head(3)"
   ]
  },
  {
   "cell_type": "code",
   "execution_count": 10,
   "metadata": {},
   "outputs": [
    {
     "data": {
      "text/html": [
       "<div>\n",
       "<style scoped>\n",
       "    .dataframe tbody tr th:only-of-type {\n",
       "        vertical-align: middle;\n",
       "    }\n",
       "\n",
       "    .dataframe tbody tr th {\n",
       "        vertical-align: top;\n",
       "    }\n",
       "\n",
       "    .dataframe thead th {\n",
       "        text-align: right;\n",
       "    }\n",
       "</style>\n",
       "<table border=\"1\" class=\"dataframe\">\n",
       "  <thead>\n",
       "    <tr style=\"text-align: right;\">\n",
       "      <th></th>\n",
       "      <th>id_assessment</th>\n",
       "      <th>passed_exams</th>\n",
       "    </tr>\n",
       "  </thead>\n",
       "  <tbody>\n",
       "    <tr>\n",
       "      <th>0</th>\n",
       "      <td>25340</td>\n",
       "      <td>478</td>\n",
       "    </tr>\n",
       "    <tr>\n",
       "      <th>1</th>\n",
       "      <td>25361</td>\n",
       "      <td>478</td>\n",
       "    </tr>\n",
       "    <tr>\n",
       "      <th>2</th>\n",
       "      <td>24290</td>\n",
       "      <td>650</td>\n",
       "    </tr>\n",
       "  </tbody>\n",
       "</table>\n",
       "</div>"
      ],
      "text/plain": [
       "   id_assessment  passed_exams\n",
       "0          25340           478\n",
       "1          25361           478\n",
       "2          24290           650"
      ]
     },
     "execution_count": 10,
     "metadata": {},
     "output_type": "execute_result"
    }
   ],
   "source": [
    "# сделаем таблцу, где посмотрим сколько экзаменов было успешно сдано\n",
    "passed_exams=df1.query('score>40 and assessment_type==\"Exam\"')\\\n",
    "                .groupby('id_assessment')\\\n",
    "                .date_submitted\\\n",
    "                .count()\\\n",
    "                .sort_values()\\\n",
    "                .reset_index()\\\n",
    "                .rename(columns = {'date_submitted':'passed_exams'})\n",
    "#переименуем новый столбец\n",
    "passed_exams.head(3)"
   ]
  },
  {
   "cell_type": "code",
   "execution_count": 11,
   "metadata": {},
   "outputs": [],
   "source": [
    "# объединим эти таблицы, чтобы мы могли видеть данные по каждому экзамену\n",
    "df_comleted=pd.merge(df_efforts, passed_exams, on='id_assessment', how='outer')"
   ]
  },
  {
   "cell_type": "code",
   "execution_count": 12,
   "metadata": {},
   "outputs": [],
   "source": [
    "#создадим новую столбец в таблице completed, где мы посчитаем для каждого экзамена завершаемость. \n",
    "df_comleted['completed']=(df_comleted.passed_exams/df_comleted.efforts)*100\n",
    "df_comleted=df_comleted.sort_values(by='completed')"
   ]
  },
  {
   "cell_type": "code",
   "execution_count": 13,
   "metadata": {},
   "outputs": [
    {
     "data": {
      "text/html": [
       "<div>\n",
       "<style scoped>\n",
       "    .dataframe tbody tr th:only-of-type {\n",
       "        vertical-align: middle;\n",
       "    }\n",
       "\n",
       "    .dataframe tbody tr th {\n",
       "        vertical-align: top;\n",
       "    }\n",
       "\n",
       "    .dataframe thead th {\n",
       "        text-align: right;\n",
       "    }\n",
       "</style>\n",
       "<table border=\"1\" class=\"dataframe\">\n",
       "  <thead>\n",
       "    <tr style=\"text-align: right;\">\n",
       "      <th></th>\n",
       "      <th>id_assessment</th>\n",
       "      <th>efforts</th>\n",
       "      <th>passed_exams</th>\n",
       "      <th>completed</th>\n",
       "      <th>code_module</th>\n",
       "      <th>code_presentation</th>\n",
       "      <th>assessment_type</th>\n",
       "      <th>date</th>\n",
       "      <th>weight</th>\n",
       "    </tr>\n",
       "  </thead>\n",
       "  <tbody>\n",
       "    <tr>\n",
       "      <th>0</th>\n",
       "      <td>25340</td>\n",
       "      <td>602</td>\n",
       "      <td>478</td>\n",
       "      <td>79.401993</td>\n",
       "      <td>DDD</td>\n",
       "      <td>2013B</td>\n",
       "      <td>Exam</td>\n",
       "      <td>240.0</td>\n",
       "      <td>100.0</td>\n",
       "    </tr>\n",
       "    <tr>\n",
       "      <th>1</th>\n",
       "      <td>24299</td>\n",
       "      <td>1168</td>\n",
       "      <td>995</td>\n",
       "      <td>85.188356</td>\n",
       "      <td>CCC</td>\n",
       "      <td>2014J</td>\n",
       "      <td>Exam</td>\n",
       "      <td>NaN</td>\n",
       "      <td>100.0</td>\n",
       "    </tr>\n",
       "    <tr>\n",
       "      <th>2</th>\n",
       "      <td>25368</td>\n",
       "      <td>950</td>\n",
       "      <td>825</td>\n",
       "      <td>86.842105</td>\n",
       "      <td>DDD</td>\n",
       "      <td>2014J</td>\n",
       "      <td>Exam</td>\n",
       "      <td>NaN</td>\n",
       "      <td>100.0</td>\n",
       "    </tr>\n",
       "    <tr>\n",
       "      <th>3</th>\n",
       "      <td>24290</td>\n",
       "      <td>747</td>\n",
       "      <td>650</td>\n",
       "      <td>87.014726</td>\n",
       "      <td>CCC</td>\n",
       "      <td>2014B</td>\n",
       "      <td>Exam</td>\n",
       "      <td>NaN</td>\n",
       "      <td>100.0</td>\n",
       "    </tr>\n",
       "    <tr>\n",
       "      <th>4</th>\n",
       "      <td>25354</td>\n",
       "      <td>968</td>\n",
       "      <td>856</td>\n",
       "      <td>88.429752</td>\n",
       "      <td>DDD</td>\n",
       "      <td>2013J</td>\n",
       "      <td>Exam</td>\n",
       "      <td>261.0</td>\n",
       "      <td>100.0</td>\n",
       "    </tr>\n",
       "    <tr>\n",
       "      <th>5</th>\n",
       "      <td>25361</td>\n",
       "      <td>524</td>\n",
       "      <td>478</td>\n",
       "      <td>91.221374</td>\n",
       "      <td>DDD</td>\n",
       "      <td>2014B</td>\n",
       "      <td>Exam</td>\n",
       "      <td>241.0</td>\n",
       "      <td>100.0</td>\n",
       "    </tr>\n",
       "  </tbody>\n",
       "</table>\n",
       "</div>"
      ],
      "text/plain": [
       "   id_assessment  efforts  passed_exams  completed code_module  \\\n",
       "0          25340      602           478  79.401993         DDD   \n",
       "1          24299     1168           995  85.188356         CCC   \n",
       "2          25368      950           825  86.842105         DDD   \n",
       "3          24290      747           650  87.014726         CCC   \n",
       "4          25354      968           856  88.429752         DDD   \n",
       "5          25361      524           478  91.221374         DDD   \n",
       "\n",
       "  code_presentation assessment_type   date  weight  \n",
       "0             2013B            Exam  240.0   100.0  \n",
       "1             2014J            Exam    NaN   100.0  \n",
       "2             2014J            Exam    NaN   100.0  \n",
       "3             2014B            Exam    NaN   100.0  \n",
       "4             2013J            Exam  261.0   100.0  \n",
       "5             2014B            Exam  241.0   100.0  "
      ]
     },
     "execution_count": 13,
     "metadata": {},
     "output_type": "execute_result"
    }
   ],
   "source": [
    "#объединим, чтобы увидеть курсы, к которым относятся те или иные экзмаены, а также семестры, \n",
    "# так как мы точно не знаем что понимается под курсом в задании. \n",
    "df2_1=pd.merge(df_comleted, asses, on='id_assessment')\n",
    "df2_1"
   ]
  },
  {
   "cell_type": "code",
   "execution_count": 15,
   "metadata": {},
   "outputs": [
    {
     "data": {
      "text/html": [
       "<div>\n",
       "<style scoped>\n",
       "    .dataframe tbody tr th:only-of-type {\n",
       "        vertical-align: middle;\n",
       "    }\n",
       "\n",
       "    .dataframe tbody tr th {\n",
       "        vertical-align: top;\n",
       "    }\n",
       "\n",
       "    .dataframe thead th {\n",
       "        text-align: right;\n",
       "    }\n",
       "</style>\n",
       "<table border=\"1\" class=\"dataframe\">\n",
       "  <thead>\n",
       "    <tr style=\"text-align: right;\">\n",
       "      <th></th>\n",
       "      <th>id_assessment</th>\n",
       "      <th>completed</th>\n",
       "      <th>code_module</th>\n",
       "      <th>code_presentation</th>\n",
       "      <th>assessment_type</th>\n",
       "    </tr>\n",
       "  </thead>\n",
       "  <tbody>\n",
       "    <tr>\n",
       "      <th>Easiest</th>\n",
       "      <td>25340</td>\n",
       "      <td>79.401993</td>\n",
       "      <td>DDD</td>\n",
       "      <td>2013B</td>\n",
       "      <td>Exam</td>\n",
       "    </tr>\n",
       "    <tr>\n",
       "      <th>Hardest</th>\n",
       "      <td>25361</td>\n",
       "      <td>91.221374</td>\n",
       "      <td>DDD</td>\n",
       "      <td>2014B</td>\n",
       "      <td>Exam</td>\n",
       "    </tr>\n",
       "  </tbody>\n",
       "</table>\n",
       "</div>"
      ],
      "text/plain": [
       "         id_assessment  completed code_module code_presentation  \\\n",
       "Easiest          25340  79.401993         DDD             2013B   \n",
       "Hardest          25361  91.221374         DDD             2014B   \n",
       "\n",
       "        assessment_type  \n",
       "Easiest            Exam  \n",
       "Hardest            Exam  "
      ]
     },
     "execution_count": 15,
     "metadata": {},
     "output_type": "execute_result"
    }
   ],
   "source": [
    "# теперь оставим в таблице только нужные стодбцы и колонки: для проверки, что мы показываем Exam, \n",
    "# для понимания какой курс показываем предмет и семестр. \n",
    "df2_2=df2_1.drop(columns=['efforts', 'passed_exams', 'date', 'weight'])\n",
    "df2=df2_2[(df2_2['completed'] == df2_2['completed'].max()) | (df2_2['completed'] == df2_2['completed'].min())]\\\n",
    "       .rename(index = {5:'Hardest', 0:'Easiest'})\n",
    "df2"
   ]
  },
  {
   "cell_type": "markdown",
   "metadata": {},
   "source": [
    "# Задание №3. \n",
    "По каждому предмету определи средний срок сдачи экзаменов\n",
    "\n",
    "(под сдачей понимаем последнее успешное прохождение экзамена студентом).\n",
    "(5 баллов) "
   ]
  },
  {
   "cell_type": "markdown",
   "metadata": {},
   "source": [
    "# Ответ №3: "
   ]
  },
  {
   "cell_type": "markdown",
   "metadata": {},
   "source": [
    "Сданы были экзамены только по предметам  CCC, DDD"
   ]
  },
  {
   "cell_type": "code",
   "execution_count": 19,
   "metadata": {},
   "outputs": [
    {
     "data": {
      "text/html": [
       "<div>\n",
       "<style scoped>\n",
       "    .dataframe tbody tr th:only-of-type {\n",
       "        vertical-align: middle;\n",
       "    }\n",
       "\n",
       "    .dataframe tbody tr th {\n",
       "        vertical-align: top;\n",
       "    }\n",
       "\n",
       "    .dataframe thead th {\n",
       "        text-align: right;\n",
       "    }\n",
       "</style>\n",
       "<table border=\"1\" class=\"dataframe\">\n",
       "  <thead>\n",
       "    <tr style=\"text-align: right;\">\n",
       "      <th></th>\n",
       "      <th>code_module</th>\n",
       "      <th>mean_days</th>\n",
       "    </tr>\n",
       "  </thead>\n",
       "  <tbody>\n",
       "    <tr>\n",
       "      <th>Hardest_exam</th>\n",
       "      <td>CCC</td>\n",
       "      <td>238.0</td>\n",
       "    </tr>\n",
       "    <tr>\n",
       "      <th>Easiest_exam</th>\n",
       "      <td>DDD</td>\n",
       "      <td>237.0</td>\n",
       "    </tr>\n",
       "  </tbody>\n",
       "</table>\n",
       "</div>"
      ],
      "text/plain": [
       "             code_module  mean_days\n",
       "Hardest_exam         CCC      238.0\n",
       "Easiest_exam         DDD      237.0"
      ]
     },
     "execution_count": 19,
     "metadata": {},
     "output_type": "execute_result"
    }
   ],
   "source": [
    "# ответ в табличной форме\n",
    "df3"
   ]
  },
  {
   "cell_type": "code",
   "execution_count": null,
   "metadata": {},
   "outputs": [],
   "source": [
    "#Прежде чем приступим к решению, нам нужно понять, как именно засчитывать срок сдачи экзамена у студентов, \n",
    "# который брали академичекий отпуск. Мы видим, что где is_banked=1, там date_submitted = -1. \n",
    "# Проверяем, что среди экзаменационных тестов нет is_banked==1. "
   ]
  },
  {
   "cell_type": "code",
   "execution_count": 17,
   "metadata": {},
   "outputs": [
    {
     "data": {
      "text/plain": [
       "0"
      ]
     },
     "execution_count": 17,
     "metadata": {},
     "output_type": "execute_result"
    }
   ],
   "source": [
    "df1.query('assessment_type==\"Exam\"').is_banked.sum()"
   ]
  },
  {
   "cell_type": "code",
   "execution_count": 18,
   "metadata": {},
   "outputs": [
    {
     "data": {
      "text/html": [
       "<div>\n",
       "<style scoped>\n",
       "    .dataframe tbody tr th:only-of-type {\n",
       "        vertical-align: middle;\n",
       "    }\n",
       "\n",
       "    .dataframe tbody tr th {\n",
       "        vertical-align: top;\n",
       "    }\n",
       "\n",
       "    .dataframe thead th {\n",
       "        text-align: right;\n",
       "    }\n",
       "</style>\n",
       "<table border=\"1\" class=\"dataframe\">\n",
       "  <thead>\n",
       "    <tr style=\"text-align: right;\">\n",
       "      <th></th>\n",
       "      <th>code_module</th>\n",
       "      <th>mean_days</th>\n",
       "    </tr>\n",
       "  </thead>\n",
       "  <tbody>\n",
       "    <tr>\n",
       "      <th>Hardest_exam</th>\n",
       "      <td>CCC</td>\n",
       "      <td>238.0</td>\n",
       "    </tr>\n",
       "    <tr>\n",
       "      <th>Easiest_exam</th>\n",
       "      <td>DDD</td>\n",
       "      <td>237.0</td>\n",
       "    </tr>\n",
       "  </tbody>\n",
       "</table>\n",
       "</div>"
      ],
      "text/plain": [
       "             code_module  mean_days\n",
       "Hardest_exam         CCC      238.0\n",
       "Easiest_exam         DDD      237.0"
      ]
     },
     "execution_count": 18,
     "metadata": {},
     "output_type": "execute_result"
    }
   ],
   "source": [
    "#выберем все успешно сданные экзамены, посчтаем количество дней, которое в общей сложности потратили все студенты на данный экзамен\n",
    "#объедигним таблицу со всеми экзаменами.\n",
    "df3=df1.query('score>=40 and assessment_type==\"Exam\"')\\\n",
    "       .groupby(['id_assessment', 'code_module'], as_index = False)\\\n",
    "       .date_submitted.mean()\\\n",
    "       .reset_index()\\\n",
    "       .rename(columns={'date_submitted':'mean_days'})\\\n",
    "       .groupby('code_module').mean_days.mean().reset_index()\\\n",
    "       .rename(index = {0:'Hardest_exam', 1:'Easiest_exam'}).round(0)\n",
    "df3"
   ]
  },
  {
   "cell_type": "markdown",
   "metadata": {},
   "source": [
    "#  Задание №4. \n",
    "Выяви самые популярные курсы (ТОП-3) по количеству регистраций на них. \n",
    "А также курсы с самым большим оттоком (ТОП-3). (8 баллов)"
   ]
  },
  {
   "cell_type": "markdown",
   "metadata": {},
   "source": [
    "# Ответ №4:"
   ]
  },
  {
   "cell_type": "markdown",
   "metadata": {},
   "source": [
    "(ТОП-3) по количеству регистраций на них: BBB, FFF, DDD \n",
    "\n",
    "(ТОП-3) с самым большим оттоком в абсолютных значениях: FFF, BBB, DDD \n",
    "\n",
    "(ТОП-3) с самым большим оттоком в % относительно регистраций (более 30%): CCC, DDD, FFF"
   ]
  },
  {
   "cell_type": "code",
   "execution_count": 20,
   "metadata": {},
   "outputs": [
    {
     "data": {
      "text/html": [
       "<div>\n",
       "<style scoped>\n",
       "    .dataframe tbody tr th:only-of-type {\n",
       "        vertical-align: middle;\n",
       "    }\n",
       "\n",
       "    .dataframe tbody tr th {\n",
       "        vertical-align: top;\n",
       "    }\n",
       "\n",
       "    .dataframe thead th {\n",
       "        text-align: right;\n",
       "    }\n",
       "</style>\n",
       "<table border=\"1\" class=\"dataframe\">\n",
       "  <thead>\n",
       "    <tr style=\"text-align: right;\">\n",
       "      <th></th>\n",
       "      <th>index</th>\n",
       "      <th>code_module</th>\n",
       "      <th>reg</th>\n",
       "      <th>unreg</th>\n",
       "      <th>outflow_reg</th>\n",
       "    </tr>\n",
       "  </thead>\n",
       "  <tbody>\n",
       "    <tr>\n",
       "      <th>0</th>\n",
       "      <td>0</td>\n",
       "      <td>AAA</td>\n",
       "      <td>748</td>\n",
       "      <td>126</td>\n",
       "      <td>16.84</td>\n",
       "    </tr>\n",
       "    <tr>\n",
       "      <th>1</th>\n",
       "      <td>1</td>\n",
       "      <td>BBB</td>\n",
       "      <td>7900</td>\n",
       "      <td>2377</td>\n",
       "      <td>30.09</td>\n",
       "    </tr>\n",
       "    <tr>\n",
       "      <th>2</th>\n",
       "      <td>2</td>\n",
       "      <td>CCC</td>\n",
       "      <td>4426</td>\n",
       "      <td>1947</td>\n",
       "      <td>43.99</td>\n",
       "    </tr>\n",
       "    <tr>\n",
       "      <th>3</th>\n",
       "      <td>3</td>\n",
       "      <td>DDD</td>\n",
       "      <td>6257</td>\n",
       "      <td>2235</td>\n",
       "      <td>35.72</td>\n",
       "    </tr>\n",
       "    <tr>\n",
       "      <th>4</th>\n",
       "      <td>4</td>\n",
       "      <td>EEE</td>\n",
       "      <td>2932</td>\n",
       "      <td>718</td>\n",
       "      <td>24.49</td>\n",
       "    </tr>\n",
       "    <tr>\n",
       "      <th>5</th>\n",
       "      <td>5</td>\n",
       "      <td>FFF</td>\n",
       "      <td>7751</td>\n",
       "      <td>2380</td>\n",
       "      <td>30.71</td>\n",
       "    </tr>\n",
       "    <tr>\n",
       "      <th>6</th>\n",
       "      <td>6</td>\n",
       "      <td>GGG</td>\n",
       "      <td>2534</td>\n",
       "      <td>289</td>\n",
       "      <td>11.40</td>\n",
       "    </tr>\n",
       "  </tbody>\n",
       "</table>\n",
       "</div>"
      ],
      "text/plain": [
       "   index code_module   reg  unreg  outflow_reg\n",
       "0      0         AAA   748    126        16.84\n",
       "1      1         BBB  7900   2377        30.09\n",
       "2      2         CCC  4426   1947        43.99\n",
       "3      3         DDD  6257   2235        35.72\n",
       "4      4         EEE  2932    718        24.49\n",
       "5      5         FFF  7751   2380        30.71\n",
       "6      6         GGG  2534    289        11.40"
      ]
     },
     "execution_count": 20,
     "metadata": {},
     "output_type": "execute_result"
    }
   ],
   "source": [
    "df_4=streg.groupby('code_module', as_index = False)\\\n",
    "          .agg({'date_registration':'count', 'date_unregistration':'count'})\\\n",
    "          .rename(columns={'date_registration':'reg'})\\\n",
    "          .rename(columns={'date_unregistration':'unreg'})\\\n",
    "          .reset_index()\n",
    "df_4['outflow_reg']=((df_4.unreg/df_4.reg)*100).round(2)\n",
    "df_4"
   ]
  },
  {
   "cell_type": "code",
   "execution_count": 21,
   "metadata": {},
   "outputs": [
    {
     "data": {
      "text/html": [
       "<div>\n",
       "<style scoped>\n",
       "    .dataframe tbody tr th:only-of-type {\n",
       "        vertical-align: middle;\n",
       "    }\n",
       "\n",
       "    .dataframe tbody tr th {\n",
       "        vertical-align: top;\n",
       "    }\n",
       "\n",
       "    .dataframe thead th {\n",
       "        text-align: right;\n",
       "    }\n",
       "</style>\n",
       "<table border=\"1\" class=\"dataframe\">\n",
       "  <thead>\n",
       "    <tr style=\"text-align: right;\">\n",
       "      <th></th>\n",
       "      <th>index</th>\n",
       "      <th>code_module</th>\n",
       "      <th>reg</th>\n",
       "      <th>unreg</th>\n",
       "      <th>outflow_reg</th>\n",
       "    </tr>\n",
       "  </thead>\n",
       "  <tbody>\n",
       "    <tr>\n",
       "      <th>1</th>\n",
       "      <td>1</td>\n",
       "      <td>BBB</td>\n",
       "      <td>7900</td>\n",
       "      <td>2377</td>\n",
       "      <td>30.09</td>\n",
       "    </tr>\n",
       "    <tr>\n",
       "      <th>5</th>\n",
       "      <td>5</td>\n",
       "      <td>FFF</td>\n",
       "      <td>7751</td>\n",
       "      <td>2380</td>\n",
       "      <td>30.71</td>\n",
       "    </tr>\n",
       "    <tr>\n",
       "      <th>3</th>\n",
       "      <td>3</td>\n",
       "      <td>DDD</td>\n",
       "      <td>6257</td>\n",
       "      <td>2235</td>\n",
       "      <td>35.72</td>\n",
       "    </tr>\n",
       "  </tbody>\n",
       "</table>\n",
       "</div>"
      ],
      "text/plain": [
       "   index code_module   reg  unreg  outflow_reg\n",
       "1      1         BBB  7900   2377        30.09\n",
       "5      5         FFF  7751   2380        30.71\n",
       "3      3         DDD  6257   2235        35.72"
      ]
     },
     "execution_count": 21,
     "metadata": {},
     "output_type": "execute_result"
    }
   ],
   "source": [
    "# посчитаем (ТОП-3) по количеству регистраций на курсы\n",
    "module_reg=df_4.sort_values(by='reg', ascending=False)\n",
    "module_reg.head(3)"
   ]
  },
  {
   "cell_type": "code",
   "execution_count": 22,
   "metadata": {},
   "outputs": [
    {
     "data": {
      "image/png": "[encoded data removed]",
      "text/plain": [
       "<Figure size 1080x432 with 1 Axes>"
      ]
     },
     "metadata": {
      "needs_background": "light"
     },
     "output_type": "display_data"
    }
   ],
   "source": [
    "plt.figure(figsize=(15, 6))\n",
    "ax=sns.barplot(data=module_reg, x='reg', y='code_module', palette='Paired')\n",
    "ax.set_title('ТОП-3 курсов по количеству регистраций')\n",
    "ax.set(xlabel='Registration', ylabel='Module')\n",
    "\n",
    "plt.show()"
   ]
  },
  {
   "cell_type": "code",
   "execution_count": 23,
   "metadata": {},
   "outputs": [
    {
     "data": {
      "text/html": [
       "<div>\n",
       "<style scoped>\n",
       "    .dataframe tbody tr th:only-of-type {\n",
       "        vertical-align: middle;\n",
       "    }\n",
       "\n",
       "    .dataframe tbody tr th {\n",
       "        vertical-align: top;\n",
       "    }\n",
       "\n",
       "    .dataframe thead th {\n",
       "        text-align: right;\n",
       "    }\n",
       "</style>\n",
       "<table border=\"1\" class=\"dataframe\">\n",
       "  <thead>\n",
       "    <tr style=\"text-align: right;\">\n",
       "      <th></th>\n",
       "      <th>index</th>\n",
       "      <th>code_module</th>\n",
       "      <th>reg</th>\n",
       "      <th>unreg</th>\n",
       "      <th>outflow_reg</th>\n",
       "    </tr>\n",
       "  </thead>\n",
       "  <tbody>\n",
       "    <tr>\n",
       "      <th>5</th>\n",
       "      <td>5</td>\n",
       "      <td>FFF</td>\n",
       "      <td>7751</td>\n",
       "      <td>2380</td>\n",
       "      <td>30.71</td>\n",
       "    </tr>\n",
       "    <tr>\n",
       "      <th>1</th>\n",
       "      <td>1</td>\n",
       "      <td>BBB</td>\n",
       "      <td>7900</td>\n",
       "      <td>2377</td>\n",
       "      <td>30.09</td>\n",
       "    </tr>\n",
       "    <tr>\n",
       "      <th>3</th>\n",
       "      <td>3</td>\n",
       "      <td>DDD</td>\n",
       "      <td>6257</td>\n",
       "      <td>2235</td>\n",
       "      <td>35.72</td>\n",
       "    </tr>\n",
       "  </tbody>\n",
       "</table>\n",
       "</div>"
      ],
      "text/plain": [
       "   index code_module   reg  unreg  outflow_reg\n",
       "5      5         FFF  7751   2380        30.71\n",
       "1      1         BBB  7900   2377        30.09\n",
       "3      3         DDD  6257   2235        35.72"
      ]
     },
     "execution_count": 23,
     "metadata": {},
     "output_type": "execute_result"
    }
   ],
   "source": [
    "module_unreg=df_4.sort_values(by='unreg', ascending=False)\n",
    "module_unreg.head(3)"
   ]
  },
  {
   "cell_type": "code",
   "execution_count": 24,
   "metadata": {},
   "outputs": [
    {
     "data": {
      "image/png": "[encoded data removed]",
      "text/plain": [
       "<Figure size 1080x432 with 1 Axes>"
      ]
     },
     "metadata": {
      "needs_background": "light"
     },
     "output_type": "display_data"
    }
   ],
   "source": [
    "plt.figure(figsize=(15, 6))\n",
    "ax=sns.barplot(data=module_unreg, x='unreg', y='code_module', palette='Paired')\n",
    "ax.set_title('ТОП-3 курсов по количеству отмен регистраций')\n",
    "ax.set(xlabel='Unregistration', ylabel='Module')\n",
    "\n",
    "plt.show()"
   ]
  },
  {
   "cell_type": "code",
   "execution_count": 25,
   "metadata": {},
   "outputs": [
    {
     "data": {
      "text/html": [
       "<div>\n",
       "<style scoped>\n",
       "    .dataframe tbody tr th:only-of-type {\n",
       "        vertical-align: middle;\n",
       "    }\n",
       "\n",
       "    .dataframe tbody tr th {\n",
       "        vertical-align: top;\n",
       "    }\n",
       "\n",
       "    .dataframe thead th {\n",
       "        text-align: right;\n",
       "    }\n",
       "</style>\n",
       "<table border=\"1\" class=\"dataframe\">\n",
       "  <thead>\n",
       "    <tr style=\"text-align: right;\">\n",
       "      <th></th>\n",
       "      <th>index</th>\n",
       "      <th>code_module</th>\n",
       "      <th>reg</th>\n",
       "      <th>unreg</th>\n",
       "      <th>outflow_reg</th>\n",
       "    </tr>\n",
       "  </thead>\n",
       "  <tbody>\n",
       "    <tr>\n",
       "      <th>1</th>\n",
       "      <td>1</td>\n",
       "      <td>BBB</td>\n",
       "      <td>7900</td>\n",
       "      <td>2377</td>\n",
       "      <td>30.09</td>\n",
       "    </tr>\n",
       "    <tr>\n",
       "      <th>5</th>\n",
       "      <td>5</td>\n",
       "      <td>FFF</td>\n",
       "      <td>7751</td>\n",
       "      <td>2380</td>\n",
       "      <td>30.71</td>\n",
       "    </tr>\n",
       "    <tr>\n",
       "      <th>3</th>\n",
       "      <td>3</td>\n",
       "      <td>DDD</td>\n",
       "      <td>6257</td>\n",
       "      <td>2235</td>\n",
       "      <td>35.72</td>\n",
       "    </tr>\n",
       "  </tbody>\n",
       "</table>\n",
       "</div>"
      ],
      "text/plain": [
       "   index code_module   reg  unreg  outflow_reg\n",
       "1      1         BBB  7900   2377        30.09\n",
       "5      5         FFF  7751   2380        30.71\n",
       "3      3         DDD  6257   2235        35.72"
      ]
     },
     "execution_count": 25,
     "metadata": {},
     "output_type": "execute_result"
    }
   ],
   "source": [
    "modul_outflow=df_4.sort_values(by='outflow_reg', ascending=False)\n",
    "module_reg.head(3)"
   ]
  },
  {
   "cell_type": "code",
   "execution_count": 26,
   "metadata": {},
   "outputs": [
    {
     "data": {
      "image/png": "[encoded data removed]",
      "text/plain": [
       "<Figure size 1080x432 with 1 Axes>"
      ]
     },
     "metadata": {
      "needs_background": "light"
     },
     "output_type": "display_data"
    }
   ],
   "source": [
    "plt.figure(figsize=(15, 6))\n",
    "ax=sns.barplot(data=modul_outflow, x='outflow_reg', y='code_module', palette='Paired')\n",
    "ax.set_title('ТОП-3 курсов по проценту оттока студентов после регистрации')\n",
    "ax.set(xlabel='Outflow_reg', ylabel='Module')\n",
    "\n",
    "plt.show()"
   ]
  },
  {
   "cell_type": "markdown",
   "metadata": {},
   "source": [
    "# Задание № 5. \n",
    "\n",
    "Напиши функцию на python, позволяющую строить когортный (семестровый) анализ. \n",
    "\n",
    "В период с начала 2013 по конец 2014 выяви семестр с самой низкой завершаемостью курсов и \n",
    "\n",
    "самыми долгими средними сроками сдачи курсов. (10 баллов) "
   ]
  },
  {
   "cell_type": "code",
   "execution_count": 27,
   "metadata": {},
   "outputs": [
    {
     "data": {
      "text/plain": [
       "array(['2013J', '2014J', '2013B', '2014B'], dtype=object)"
      ]
     },
     "execution_count": 27,
     "metadata": {},
     "output_type": "execute_result"
    }
   ],
   "source": [
    "# Среди наших таблиц строго говоря нет дат, которые могли бы показать нам начало 2013 и конец 2014, но есть code_presentation. \n",
    "# В столбце code_presentation есть всего 4 значения: '2013J', '2014J', '2013B', '2014B', то есть всего 4 обозначения. \n",
    "# Давайте для них и строить семетровый анализ\n",
    "asses.code_presentation.unique()"
   ]
  },
  {
   "cell_type": "code",
   "execution_count": 28,
   "metadata": {},
   "outputs": [],
   "source": [
    "def CohortAnalys():\n",
    "    df_exam=df1.query('assessment_type == \"Exam\"')\n",
    "    df_exam_allstudents=df_exam.groupby(['code_presentation', 'code_module'],as_index=False) \\\n",
    "                             .agg(count_students = ('id_student', 'nunique'))\n",
    "    df_exam_passed= df_exam[df_exam.score >= 40] \\\n",
    "                                   .groupby(['code_presentation', 'code_module'],as_index=False) \\\n",
    "                                   .agg(count_passed_students = ('id_student', 'nunique'))\n",
    "    df5_1 = pd.merge(df_exam_allstudents, df_exam_passed, on=['code_module', 'code_presentation'])\n",
    "    df5_1['percent'] = (df5_1.count_passed_students / df5_1.count_students).round(2)\n",
    "    df5_1 = df5_1.pivot_table(index='code_presentation', columns='code_module', values='percent')\n",
    "    \n",
    "    fig, axes = plt.subplots(1, 2, sharey=True, figsize=(18,7))\n",
    "    ax1 = sns.heatmap(df5_1,ax = axes[0],\n",
    "            mask=df5_1.isnull(),\n",
    "            annot=True,\n",
    "            fmt='.0%',\n",
    "            cmap='PuBu')\n",
    "    ax1.set_title('Completed')\n",
    "    \n",
    "    df_passedexam=df1[df1.score >= 40]\n",
    "    df5_2 = df_passedexam.groupby(['code_presentation', 'code_module'], as_index=False) \\\n",
    "                         .agg(mean_duration=('date_submitted', 'mean'))\n",
    "    df5_2['mean_duration'] = df5_2['mean_duration'].round(1)\n",
    "    df5_3 = df5_2.pivot_table(index='code_presentation', columns='code_module',values='mean_duration')\n",
    "    ax2 = sns.heatmap(df5_3, ax = axes[1], annot=True, cmap='YlGnBu')\n",
    "    ax2.set_title('Mean_duration')"
   ]
  },
  {
   "cell_type": "code",
   "execution_count": 29,
   "metadata": {},
   "outputs": [
    {
     "data": {
      "image/png": "[encoded data removed]",
      "text/plain": [
       "<Figure size 1296x504 with 4 Axes>"
      ]
     },
     "metadata": {
      "needs_background": "light"
     },
     "output_type": "display_data"
    }
   ],
   "source": [
    "CohortAnalys()"
   ]
  },
  {
   "cell_type": "markdown",
   "metadata": {},
   "source": [
    "# Задание № 6."
   ]
  },
  {
   "cell_type": "markdown",
   "metadata": {},
   "source": [
    "> Часто для качественного анализа аудитории использую подходы, основанные на сегментации. \n",
    "Используя python, построй адаптированные RFM-кластеры студентов, чтобы качественно оценить свою аудиторию. \n",
    "Подробно опиши, как ты создавал кластеры. Для каждого RFM-сегмента построй границы метрик recency, \n",
    "frequency и monetary для интерпретации этих кластеров. \n",
    "В адаптированной кластеризации можешь выбрать следующие метрики: R - среднее время сдачи одного экзамена, \n",
    "F - завершаемость курсов, M - среднее количество баллов, получаемое за экзамен. \n",
    "\n",
    ">Пример такого описания: RFM-сегмент 132 (recency=1, frequency=3, monetary=2) \n",
    "имеет границы метрик recency от 130 до 500 дней, frequency от 0.1 до 0.5, monetary от 55 до 72 баллов. \n"
   ]
  },
  {
   "cell_type": "code",
   "execution_count": null,
   "metadata": {},
   "outputs": [],
   "source": []
  },
  {
   "cell_type": "code",
   "execution_count": null,
   "metadata": {},
   "outputs": [],
   "source": []
  },
  {
   "cell_type": "code",
   "execution_count": null,
   "metadata": {},
   "outputs": [],
   "source": []
  },
  {
   "cell_type": "code",
   "execution_count": null,
   "metadata": {},
   "outputs": [],
   "source": []
  },
  {
   "cell_type": "code",
   "execution_count": null,
   "metadata": {},
   "outputs": [],
   "source": []
  },
  {
   "cell_type": "code",
   "execution_count": null,
   "metadata": {},
   "outputs": [],
   "source": []
  },
  {
   "cell_type": "code",
   "execution_count": null,
   "metadata": {},
   "outputs": [],
   "source": []
  },
  {
   "cell_type": "code",
   "execution_count": null,
   "metadata": {},
   "outputs": [],
   "source": []
  },
  {
   "cell_type": "code",
   "execution_count": null,
   "metadata": {},
   "outputs": [],
   "source": []
  }
 ],
 "metadata": {
  "kernelspec": {
   "display_name": "Python 3 (ipykernel)",
   "language": "python",
   "name": "python3"
  },
  "language_info": {
   "codemirror_mode": {
    "name": "ipython",
    "version": 3
   },
   "file_extension": ".py",
   "mimetype": "text/x-python",
   "name": "python",
   "nbconvert_exporter": "python",
   "pygments_lexer": "ipython3",
   "version": "3.9.7"
  }
 },
 "nbformat": 4,
 "nbformat_minor": 4
}
